{
 "cells": [
  {
   "cell_type": "code",
   "execution_count": 6,
   "id": "7411a441",
   "metadata": {},
   "outputs": [],
   "source": [
    "import random"
   ]
  },
  {
   "cell_type": "code",
   "execution_count": 1,
   "id": "3c32abcd",
   "metadata": {},
   "outputs": [
    {
     "name": "stdout",
     "output_type": "stream",
     "text": [
      "Hello World\n"
     ]
    }
   ],
   "source": [
    "print(\"Hello World\")"
   ]
  },
  {
   "cell_type": "code",
   "execution_count": 3,
   "id": "00016d1a",
   "metadata": {},
   "outputs": [],
   "source": [
    "outcomes = [\"Head\",\"Tail\"]"
   ]
  },
  {
   "cell_type": "code",
   "execution_count": 38,
   "id": "ae0104a1",
   "metadata": {},
   "outputs": [],
   "source": [
    "num_flip_trials = [10,50,100,500,1000,5000,10000,100000,10000000000]"
   ]
  },
  {
   "cell_type": "code",
   "execution_count": 17,
   "id": "b74835d4",
   "metadata": {},
   "outputs": [
    {
     "name": "stdout",
     "output_type": "stream",
     "text": [
      "4\n",
      "Prob (Head) = 0.4\n"
     ]
    }
   ],
   "source": [
    "head_count = 0\n",
    "for _ in range(10):\n",
    "    if random.choice(outcomes) == \"Head\":\n",
    "     head_count += 1\n",
    "print(head_count)\n",
    "print(f\"Prob (Head) = {head_count/10}\")"
   ]
  },
  {
   "cell_type": "code",
   "execution_count": 39,
   "id": "de1a7e94",
   "metadata": {},
   "outputs": [
    {
     "name": "stdout",
     "output_type": "stream",
     "text": [
      "7\n",
      "Prob(Head) = 0.7\n",
      "27\n",
      "Prob(Head) = 0.54\n",
      "43\n",
      "Prob(Head) = 0.43\n",
      "262\n",
      "Prob(Head) = 0.524\n",
      "501\n",
      "Prob(Head) = 0.501\n",
      "2551\n",
      "Prob(Head) = 0.5102\n",
      "4982\n",
      "Prob(Head) = 0.4982\n",
      "49941\n",
      "Prob(Head) = 0.49941\n",
      "4999992279\n",
      "Prob(Head) = 0.4999992279\n"
     ]
    }
   ],
   "source": [
    "for flip in num_flip_trials:\n",
    "    head_count = 0\n",
    "    for _ in range(flip):\n",
    "        if random.choice(outcomes) == \"Head\":\n",
    "         head_count += 1\n",
    "    print(head_count)\n",
    "    print(f\"Prob(Head) = {head_count / flip}\")\n"
   ]
  },
  {
   "cell_type": "code",
   "execution_count": null,
   "id": "565a5894",
   "metadata": {},
   "outputs": [],
   "source": []
  }
 ],
 "metadata": {
  "kernelspec": {
   "display_name": "horizon25",
   "language": "python",
   "name": "python3"
  },
  "language_info": {
   "codemirror_mode": {
    "name": "ipython",
    "version": 3
   },
   "file_extension": ".py",
   "mimetype": "text/x-python",
   "name": "python",
   "nbconvert_exporter": "python",
   "pygments_lexer": "ipython3",
   "version": "3.12.9"
  }
 },
 "nbformat": 4,
 "nbformat_minor": 5
}
