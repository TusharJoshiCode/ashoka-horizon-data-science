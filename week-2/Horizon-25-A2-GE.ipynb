{
 "cells": [
  {
   "cell_type": "markdown",
   "id": "de0b899f",
   "metadata": {},
   "source": [
    "TASK 1 : DESCRIPTIVE DATA"
   ]
  },
  {
   "cell_type": "markdown",
   "id": "e0160b98",
   "metadata": {},
   "source": [
    "1.1 Manual Calculations"
   ]
  },
  {
   "cell_type": "code",
   "execution_count": 160,
   "id": "4218e117",
   "metadata": {},
   "outputs": [],
   "source": [
    "# Data\n",
    "test_scores = [55,92,78,60,85,78,90,66,73,88]"
   ]
  },
  {
   "cell_type": "code",
   "execution_count": 161,
   "id": "ce9802ea",
   "metadata": {},
   "outputs": [
    {
     "name": "stdout",
     "output_type": "stream",
     "text": [
      "Mean: 76.5\n"
     ]
    }
   ],
   "source": [
    "# Mean\n",
    "\n",
    "sum_of_values = 0\n",
    "for value in test_scores:\n",
    "    sum_of_values += value # Sum of Values\n",
    "N = len(test_scores) # Number of Values\n",
    "mean = sum_of_values / N # Mean Calculations\n",
    "print(f\"Mean: {mean}\")"
   ]
  },
  {
   "cell_type": "code",
   "execution_count": 162,
   "id": "0b84b94a",
   "metadata": {},
   "outputs": [
    {
     "name": "stdout",
     "output_type": "stream",
     "text": [
      "Median: 78\n"
     ]
    }
   ],
   "source": [
    "# Median\n",
    "\n",
    "sorted_scores = sorted(test_scores) # Sorting Data\n",
    "middle = N//2 # Identifying Middle Value\n",
    "median = sorted_scores[middle] # Median Calculation\n",
    "print(f\"Median: {median}\")"
   ]
  },
  {
   "cell_type": "code",
   "execution_count": 163,
   "id": "346ca1d2",
   "metadata": {},
   "outputs": [
    {
     "data": {
      "text/plain": [
       "(2, 78)"
      ]
     },
     "execution_count": 163,
     "metadata": {},
     "output_type": "execute_result"
    }
   ],
   "source": [
    "# Mode\n",
    "\n",
    "count_dict = {}\n",
    "for x in test_scores:\n",
    "    if x in count_dict:\n",
    "        count_dict[x] += 1\n",
    "    else:\n",
    "        count_dict[x] = 1\n",
    "\n",
    "max_count = 0\n",
    "for x in count_dict:\n",
    "    if count_dict[x] > max_count:\n",
    "        max_count = count_dict[x]\n",
    "        mode_value = x\n",
    "max_count, mode_value"
   ]
  },
  {
   "cell_type": "code",
   "execution_count": 164,
   "id": "56d69320",
   "metadata": {},
   "outputs": [
    {
     "name": "stdout",
     "output_type": "stream",
     "text": [
      "Minimum score 55\n",
      "Maximum score 92\n",
      "Range of test scores 37\n"
     ]
    }
   ],
   "source": [
    "# Range\n",
    "\n",
    "min_score = test_scores[0]\n",
    "max_score = test_scores[0]\n",
    "\n",
    "for score in test_scores:\n",
    "    if score < min_score: # Finding Minimum\n",
    "        min_score = score\n",
    "    if score > max_score:\n",
    "        max_score = score # Finding Maximum\n",
    "\n",
    "range_of_scores = max_score - min_score # Range Calculation\n",
    "\n",
    "print(\"Minimum score\", min_score)\n",
    "print(\"Maximum score\", max_score)\n",
    "print(\"Range of test scores\", range_of_scores)"
   ]
  },
  {
   "cell_type": "code",
   "execution_count": 165,
   "id": "114e5c44",
   "metadata": {},
   "outputs": [
    {
     "name": "stdout",
     "output_type": "stream",
     "text": [
      "Squared Differences: [462.25, 240.25, 2.25, 272.25, 72.25, 2.25, 182.25, 110.25, 12.25, 132.25]\n",
      "Sum of Squared Differences: 1488.5\n",
      "Variance: 148.85\n"
     ]
    }
   ],
   "source": [
    "# Varience\n",
    "\n",
    "squared_differences = []\n",
    "for score in test_scores:\n",
    "    diff = score - mean # Calculation of diffrence between scores and Mean\n",
    "    squared = diff ** 2 # Squaring the difference\n",
    "    squared_differences.append(squared)\n",
    "\n",
    "print(\"Squared Differences:\", squared_differences) # Listing Square Differences\n",
    "\n",
    "# Sum of Squared Differences\n",
    "sum_squared_diff = 0\n",
    "for val in squared_differences:\n",
    "    sum_squared_diff += val\n",
    "print(\"Sum of Squared Differences:\", sum_squared_diff)\n",
    "\n",
    "# Calculating Varience\n",
    "variance = sum_squared_diff/N\n",
    "print(f\"Variance: {variance}\")"
   ]
  },
  {
   "cell_type": "code",
   "execution_count": 166,
   "id": "a04abbcd",
   "metadata": {},
   "outputs": [
    {
     "name": "stdout",
     "output_type": "stream",
     "text": [
      "Standard Deviation: 12.200409829181968\n"
     ]
    }
   ],
   "source": [
    "# Standard Deviation\n",
    "\n",
    "standard_deviation = variance ** 0.5 # Taking Square Root of Variance\n",
    "print(f\"Standard Deviation: {standard_deviation}\")"
   ]
  },
  {
   "cell_type": "markdown",
   "id": "cb667fb0",
   "metadata": {},
   "source": [
    "1.2 Using Numpy"
   ]
  },
  {
   "cell_type": "code",
   "execution_count": 167,
   "id": "e82eef0d",
   "metadata": {},
   "outputs": [
    {
     "name": "stdout",
     "output_type": "stream",
     "text": [
      "Mean: 76.5\n",
      "Median: 78.0\n",
      "Mode: 78 (Count: 2)\n",
      "Range: 37\n",
      "Variance: 148.85\n",
      "Standard Deviation: 12.200409829181968\n"
     ]
    }
   ],
   "source": [
    "import numpy as np\n",
    "from scipy import stats\n",
    "\n",
    "# Mean\n",
    "mean = np.mean(test_scores)\n",
    "print(f\"Mean: {mean}\")\n",
    "\n",
    "# Median\n",
    "median = np.median(test_scores)\n",
    "print(f\"Median: {median}\")\n",
    "\n",
    "# Mode\n",
    "mode = stats.mode(test_scores, keepdims=True)\n",
    "print(f\"Mode: {mode.mode[0]} (Count: {mode.count[0]})\")\n",
    "\n",
    "# Range\n",
    "range_val = np.max(test_scores) - np.min(test_scores) # maximum - minimum\n",
    "print(f\"Range: {range_val}\")\n",
    "\n",
    "# Varience\n",
    "variance = np.var(test_scores)\n",
    "print(f\"Variance: {variance}\")\n",
    "\n",
    "# Standard Deviation\n",
    "std_dev = np.std(test_scores)\n",
    "print(f\"Standard Deviation: {std_dev}\")"
   ]
  },
  {
   "cell_type": "markdown",
   "id": "344affc6",
   "metadata": {},
   "source": [
    "TASK 2 : SUPERVISED LEARNING - LINEAR REGRESSION"
   ]
  },
  {
   "cell_type": "code",
   "execution_count": 168,
   "id": "7503bc8c",
   "metadata": {},
   "outputs": [],
   "source": [
    "# Data\n",
    "x_experience = np.array([1, 2, 3, 4, 5, 6, 7, 8]).reshape(-1, 1) \n",
    "y_salary = np.array([45, 50, 60, 65, 75, 80, 90, 95])"
   ]
  },
  {
   "cell_type": "markdown",
   "id": "6f214212",
   "metadata": {},
   "source": [
    "2.1 Manual \"Guess\" and MSE Calculation"
   ]
  },
  {
   "cell_type": "code",
   "execution_count": 169,
   "id": "8b2bd80a",
   "metadata": {},
   "outputs": [
    {
     "name": "stdout",
     "output_type": "stream",
     "text": [
      "y_predicted:\n",
      " [[47]\n",
      " [54]\n",
      " [61]\n",
      " [68]\n",
      " [75]\n",
      " [82]\n",
      " [89]\n",
      " [96]]\n",
      "Squared Errors [ 4 16  1  9  0  4  1  1]\n",
      "Mean Squared error (MSE) 4.5\n"
     ]
    }
   ],
   "source": [
    "m = 7 # Guessed Slope\n",
    "c = 40 # Guessed Intercept\n",
    "\n",
    "# Gussed Line Equation\n",
    "y_predicted = m * x_experience + c\n",
    "print(\"y_predicted:\\n\", y_predicted)\n",
    "\n",
    "# MSE Calculation\n",
    "y_predicted = y_predicted.flatten()\n",
    "squared_errors = (y_salary - y_predicted) **2\n",
    "print(\"Squared Errors\", squared_errors)\n",
    "mse = np.mean(squared_errors)\n",
    "print(\"Mean Squared error (MSE)\", mse)"
   ]
  },
  {
   "cell_type": "markdown",
   "id": "50c0c2d7",
   "metadata": {},
   "source": [
    "2.2 Using Scikit-Learn"
   ]
  },
  {
   "cell_type": "code",
   "execution_count": 170,
   "id": "aa31420b",
   "metadata": {},
   "outputs": [
    {
     "name": "stdout",
     "output_type": "stream",
     "text": [
      "Y_Prediction: [44.16666667 51.54761905 58.92857143 66.30952381 73.69047619 81.07142857\n",
      " 88.45238095 95.83333333]\n",
      "Mean Squared error (MSE) 1.4880952380952395\n",
      "R-Squared: 0.994824016563147\n",
      "Slope (m): 7.380952380952383\n",
      "Intercept (c): 36.78571428571428\n"
     ]
    }
   ],
   "source": [
    "from sklearn.linear_model import LinearRegression\n",
    "from sklearn.metrics import mean_squared_error, r2_score\n",
    "\n",
    "# Model fitting\n",
    "model = LinearRegression()\n",
    "model.fit(x_experience, y_salary)\n",
    "\n",
    "# Predicting salaries using the fitted model\n",
    "y_pred = model.predict(x_experience)\n",
    "\n",
    "# Calculating MSE\n",
    "print(\"Y_Prediction:\", y_pred)\n",
    "mse_sk= mean_squared_error(y_salary, y_pred)\n",
    "print(\"Mean Squared error (MSE)\", mse_sk)\n",
    "\n",
    "# Calculating R-Squared\n",
    "r2 = r2_score(y_salary, y_pred)\n",
    "print(\"R-Squared:\", r2)\n",
    "\n",
    "# Printing the learned coefficients i.e. slope(m) and intercept(c)\n",
    "print(\"Slope (m):\", model.coef_[0])\n",
    "print(\"Intercept (c):\", model.intercept_)"
   ]
  },
  {
   "cell_type": "markdown",
   "id": "e942b119",
   "metadata": {},
   "source": [
    "# Interpret:\n",
    "\n",
    "• What do the learned m and c tell you about the relationship between experience and salary in this model?\n",
    "    - The slope (m=7.38..) means that for every extra year of experience, the predicted salary increases by approximately 7.38..K rs (if we consider salary in thousands). And the intercept (c = 36.785..) means that a person with no experience (i.e. 0 years of experience) is prdicted to earn 36.785..k rs. (again considering salary in thousands)\n",
    "\n",
    "• What does your calculated MSE tell you about the model’s predictions for this dataset?\n",
    "    - MSE is the average squared difference betwen actual salaries and the predicted ones, and in this case it is 1.49 which is very low and it means that this model\"s prediction are very close to the actual data points. Also it means more accuracy in prediction.\n",
    "\n",
    "• What does your calculated R2 score tell you about how well the model fits this dataset?\n",
    "    - R^2 (R-squared) tells how much is the variation in salary is explained by years of experience. In this casee the value is 0.9948... and it means that 99.48...% of the variation in the salary is explained by experienc in this model, and only approx 0.52% of variation in salary is left unexplained."
   ]
  },
  {
   "cell_type": "markdown",
   "id": "12342c02",
   "metadata": {},
   "source": [
    "TASK : 3 SUPERVISED LEARNING - LOGISTIC REGRESSION"
   ]
  },
  {
   "cell_type": "code",
   "execution_count": 171,
   "id": "b89e5337",
   "metadata": {},
   "outputs": [],
   "source": [
    "# Given data\n",
    "x_prep_hour = np.array([0.5,1.0,1.5,2.0,2.5,3.0,3.5,4.0,4.5,5.0]).reshape(-1,1)\n",
    "y_pass_fail = np.array([0,0,0,0,1,0,1,1,1,1])"
   ]
  },
  {
   "cell_type": "markdown",
   "id": "4c2659a7",
   "metadata": {},
   "source": [
    "3.1 Manual Sigmoid calculation and Prediction"
   ]
  },
  {
   "cell_type": "code",
   "execution_count": 172,
   "id": "f7b84b98",
   "metadata": {},
   "outputs": [
    {
     "name": "stdout",
     "output_type": "stream",
     "text": [
      "Z values: [array([-4.]), array([-3.]), array([-2.]), array([-1.]), array([0.]), array([1.]), array([2.]), array([3.]), array([4.]), array([5.])]\n",
      "Predicted probabilities: [array([0.01798626]), array([0.04742596]), array([0.11920306]), array([0.26894155]), array([0.5]), array([0.73105845]), array([0.88079694]), array([0.95257404]), array([0.98201374]), array([0.99330713])]\n",
      "Predicted classes: [0, 0, 0, 0, 1, 1, 1, 1, 1, 1]\n",
      "Actual classes: [0 0 0 0 1 0 1 1 1 1]\n",
      "Accuracy: 0.9\n"
     ]
    }
   ],
   "source": [
    "# Guessed Parameters\n",
    "m = 2\n",
    "c = -5\n",
    "\n",
    "# Sigmoid Function\n",
    "def sigmoid(z):\n",
    "    return 1 / (1 + (2.71828 ** (-z)))  # Approximate value of e\n",
    "\n",
    "z_values = []\n",
    "probabilities = []\n",
    "predicted_classes = []\n",
    "\n",
    "for x in x_prep_hour:\n",
    "    z = m * x + c # Linear Combination\n",
    "    z_values.append(z)\n",
    "    \n",
    "    prob = sigmoid(z) # Sigmoid Value\n",
    "    probabilities.append(prob)\n",
    "\n",
    "# Predicting Class\n",
    "    pred = 1 if prob >= 0.5 else 0\n",
    "    predicted_classes.append(pred)\n",
    "\n",
    "# Calculating accuracy\n",
    "correct = 0\n",
    "for i in range(len(y_pass_fail)):\n",
    "    if predicted_classes[i] == y_pass_fail[i]:\n",
    "        correct += 1\n",
    "\n",
    "accuracy = correct / len(y_pass_fail)\n",
    "\n",
    "# Display results\n",
    "print(\"Z values:\", z_values)\n",
    "print(\"Predicted probabilities:\", probabilities)\n",
    "print(\"Predicted classes:\", predicted_classes)\n",
    "print(\"Actual classes:\", y_pass_fail)\n",
    "print(\"Accuracy:\", accuracy)\n"
   ]
  },
  {
   "cell_type": "markdown",
   "id": "430fde15",
   "metadata": {},
   "source": [
    "3.2 Using Scikit-Learn"
   ]
  },
  {
   "cell_type": "code",
   "execution_count": 173,
   "id": "218f86b9",
   "metadata": {},
   "outputs": [
    {
     "name": "stdout",
     "output_type": "stream",
     "text": [
      "Y Prediction: [0 0 0 0 0 1 1 1 1 1]\n",
      "Coefficients: [[1.22396473]]\n",
      "Intercept: [-3.36638058]\n",
      "Accuracy of the Modeel: 0.8\n",
      "Y Prediction Probability [[0.94016126 0.05983874]\n",
      " [0.89495794 0.10504206]\n",
      " [0.82206973 0.17793027]\n",
      " [0.71472641 0.28527359]\n",
      " [0.57602309 0.42397691]\n",
      " [0.42421019 0.57578981]\n",
      " [0.28546838 0.71453162]\n",
      " [0.17807002 0.82192998]\n",
      " [0.10513189 0.89486811]\n",
      " [0.05989249 0.94010751]]\n",
      "Confusion Matrix:\n",
      "[[4 1]\n",
      " [1 4]]\n"
     ]
    }
   ],
   "source": [
    "import numpy as np\n",
    "from sklearn.linear_model import LogisticRegression\n",
    "from sklearn.metrics import accuracy_score, confusion_matrix\n",
    "\n",
    "# Model\n",
    "model = LogisticRegression()\n",
    "model.fit(x_prep_hour, y_pass_fail)\n",
    "\n",
    "# Predictions\n",
    "y_pred = model.predict(x_prep_hour)\n",
    "print(\"Y Prediction:\", y_pred)\n",
    "\n",
    "# Coefficients\n",
    "coefficients = model.coef_\n",
    "intercept = model.intercept_\n",
    "print(\"Coefficients:\", coefficients)\n",
    "print(\"Intercept:\", intercept)\n",
    "\n",
    "# Accuracy\n",
    "acc = accuracy_score(y_pass_fail, y_pred)\n",
    "print(\"Accuracy of the Modeel:\", acc)\n",
    "\n",
    "# Probabilities\n",
    "y_pred_prob = model.predict_proba(x_prep_hour)\n",
    "print(\"Y Prediction Probability\", y_pred_prob)\n",
    "\n",
    "# Confusion Matrix\n",
    "conf_matrix = confusion_matrix(y_pass_fail, y_pred)\n",
    "print(\"Confusion Matrix:\")\n",
    "print(conf_matrix)"
   ]
  },
  {
   "cell_type": "markdown",
   "id": "2cd9624a",
   "metadata": {},
   "source": [
    "# Interpret:\n",
    "\n",
    "• What does the accuracy score tell you about this model on this dataset?\n",
    "    - The accuracy score tell the proportion of predictions made by the model,that are found to be correct. which is in this case is 0.8 means 8 out of 10 students prediction made by the model are found out to be correct but 2 are found to be wrong,\n",
    "    \n",
    "• Explain what each part of your confusion matrix (True Positives, True Negatives, False Positives, False Negatives) represents in the context of predicting pass/fail.\n",
    "    - in this datasetr we are predicting whwther a student passes(1) or fails(0) based on the number of hours they studied. The cofusion matrix divided it into 4 parts\n",
    "        - TRUE POSITIVES - these are the students who actually passes and also predicted to be passed by the model. TP shows successful predictions of student who did well.\n",
    "        - TRUE NEGATIVES (TN) - these are the students who actually filed and also predicted to be ailed by the model. TN shows successful predictions of students who are at risk due to less hours of studying.\n",
    "        - FALSE POSITIVES (FP) - these are the students who actually failed but were incorrectlly predicted to be pass. In this case the model was overly optimistica and it wrongly assumed these student to be pssed,\n",
    "        - FALSE NEGATIVES (FN) - these are the students who actually passed but were predicted by the model to be fail. The model underestimated these students despite them putting in enough efforts.\n"
   ]
  },
  {
   "cell_type": "markdown",
   "id": "809d6784",
   "metadata": {},
   "source": [
    "TASK 4 : UNSUPERVISED LEARNING - K-MEANS CLUSTERING."
   ]
  },
  {
   "cell_type": "code",
   "execution_count": 174,
   "id": "4ef6158a",
   "metadata": {},
   "outputs": [],
   "source": [
    "# Given Data\n",
    "X_cluster_data = np.array([\n",
    "    [2, 10],  # Point 0\n",
    "    [2, 5],   # Point 1\n",
    "    [8, 4],   # Point 2\n",
    "    [5, 8],   # Point 3\n",
    "    [7, 5],   # Point 4\n",
    "    [6, 4],   # Point 5\n",
    "    [1, 2],   # Point 6\n",
    "    [4, 9]    # Point 7\n",
    "])"
   ]
  },
  {
   "cell_type": "markdown",
   "id": "c53b6686",
   "metadata": {},
   "source": [
    "4.1 Manual K-Mean Iterations."
   ]
  },
  {
   "cell_type": "code",
   "execution_count": 175,
   "id": "372bcfd2",
   "metadata": {},
   "outputs": [
    {
     "name": "stdout",
     "output_type": "stream",
     "text": [
      "Point 0 -> Cluster 1 (Distance: C1=0.00, C2=5.00)\n",
      "Point 1 -> Cluster 2 (Distance: C1=5.00, C2=0.00)\n",
      "Point 2 -> Cluster 2 (Distance: C1=8.49, C2=6.08)\n",
      "Point 3 -> Cluster 1 (Distance: C1=3.61, C2=4.24)\n",
      "Point 4 -> Cluster 2 (Distance: C1=7.07, C2=5.00)\n",
      "Point 5 -> Cluster 2 (Distance: C1=7.21, C2=4.12)\n",
      "Point 6 -> Cluster 2 (Distance: C1=8.06, C2=3.16)\n",
      "Point 7 -> Cluster 1 (Distance: C1=2.24, C2=4.47)\n",
      "\n",
      "New Centroids after Iteration 1:\n",
      "New C1: [3.66666667 9.        ]\n",
      "New C2: [4.8 4. ]\n",
      "\n",
      "Iteration 2 - Assignment Step:\n",
      "Point 0 -> Cluster 1 (Distance: C1=1.94, C2=6.62)\n",
      "Point 1 -> Cluster 2 (Distance: C1=4.33, C2=2.97)\n",
      "Point 2 -> Cluster 2 (Distance: C1=6.62, C2=3.20)\n",
      "Point 3 -> Cluster 1 (Distance: C1=1.67, C2=4.00)\n",
      "Point 4 -> Cluster 2 (Distance: C1=5.21, C2=2.42)\n",
      "Point 5 -> Cluster 2 (Distance: C1=5.52, C2=1.20)\n",
      "Point 6 -> Cluster 2 (Distance: C1=7.49, C2=4.29)\n",
      "Point 7 -> Cluster 1 (Distance: C1=0.33, C2=5.06)\n"
     ]
    }
   ],
   "source": [
    "# Initialize centroids\n",
    "C1 = X_cluster_data[0]  # [2, 10]\n",
    "C2 = X_cluster_data[1]  # [2, 5]\n",
    "\n",
    "def euclidean_distance(a, b):\n",
    "    return np.sqrt(np.sum((a - b) ** 2))\n",
    "\n",
    "# Iteration 1\n",
    "clusters = {0: [], 1: []}\n",
    "for i, point in enumerate(X_cluster_data):\n",
    "    d_c1 = euclidean_distance(point, C1)\n",
    "    d_c2 = euclidean_distance(point, C2)\n",
    "    if d_c1 < d_c2:\n",
    "        clusters[0].append(i)  # Cluster 1\n",
    "        print(f\"Point {i} -> Cluster 1 (Distance: C1={d_c1:.2f}, C2={d_c2:.2f})\")\n",
    "    else:\n",
    "        clusters[1].append(i)  # Cluster 2\n",
    "        print(f\"Point {i} -> Cluster 2 (Distance: C1={d_c1:.2f}, C2={d_c2:.2f})\")\n",
    "\n",
    "# Update Step\n",
    "new_C1 = np.mean(X_cluster_data[clusters[0]], axis=0)\n",
    "new_C2 = np.mean(X_cluster_data[clusters[1]], axis=0)\n",
    "\n",
    "print(\"\\nNew Centroids after Iteration 1:\")\n",
    "print(\"New C1:\", new_C1)\n",
    "print(\"New C2:\", new_C2)\n",
    "\n",
    "# Iteration 2\n",
    "print(\"\\nIteration 2 - Assignment Step:\")\n",
    "clusters = {0: [], 1: []}\n",
    "for i, point in enumerate(X_cluster_data):\n",
    "    d_c1 = euclidean_distance(point, new_C1)\n",
    "    d_c2 = euclidean_distance(point, new_C2)\n",
    "    if d_c1 < d_c2:\n",
    "        clusters[0].append(i)\n",
    "        print(f\"Point {i} -> Cluster 1 (Distance: C1={d_c1:.2f}, C2={d_c2:.2f})\")\n",
    "    else:\n",
    "        clusters[1].append(i)\n",
    "        print(f\"Point {i} -> Cluster 2 (Distance: C1={d_c1:.2f}, C2={d_c2:.2f})\")\n"
   ]
  },
  {
   "cell_type": "markdown",
   "id": "fc27cbf1",
   "metadata": {},
   "source": [
    "4.2 Using Scikit-learn"
   ]
  },
  {
   "cell_type": "code",
   "execution_count": 176,
   "id": "9911f9bb",
   "metadata": {},
   "outputs": [
    {
     "name": "stdout",
     "output_type": "stream",
     "text": [
      "Final cluster centroids from scikit-learn:\n",
      "[[5.5  3.75]\n",
      " [3.25 8.  ]]\n",
      "Labels shape: (8,)\n",
      "First 5 labels: [1 1 0 1 0]\n"
     ]
    },
    {
     "data": {
      "image/png": "[encoded data removed]",
      "text/plain": [
       "<Figure size 640x480 with 1 Axes>"
      ]
     },
     "metadata": {},
     "output_type": "display_data"
    }
   ],
   "source": [
    "from sklearn.cluster import KMeans\n",
    "import matplotlib.pyplot as plt\n",
    "\n",
    "# Applying KMeans from sklearn\n",
    "kmeans = KMeans(n_clusters=2, random_state=42, n_init='auto')\n",
    "kmeans.fit(X_cluster_data)\n",
    "\n",
    "# Output centroids\n",
    "print(\"Final cluster centroids from scikit-learn:\")\n",
    "print(kmeans.cluster_centers_)\n",
    "\n",
    "# Output cluster labels\n",
    "labels = kmeans.labels_\n",
    "print(f\"Labels shape: {labels.shape}\")\n",
    "print(f\"First 5 labels: {labels[:5]}\")\n",
    "\n",
    "# Plotting\n",
    "colors = ['red' if label == 0 else 'blue' for label in kmeans.labels_]\n",
    "plt.scatter(X_cluster_data[:, 0], X_cluster_data[:, 1], c=colors, label='Data Points')\n",
    "plt.scatter(kmeans.cluster_centers_[:, 0], kmeans.cluster_centers_[:, 1],\n",
    "            color='black', marker='X', s=200, label='Centroids')\n",
    "plt.title(\"KMeans Clustering (Scikit-learn)\")\n",
    "plt.xlabel(\"X\")\n",
    "plt.ylabel(\"Y\")\n",
    "plt.legend()\n",
    "plt.grid(True)\n",
    "plt.show()\n"
   ]
  },
  {
   "cell_type": "markdown",
   "id": "cb749537",
   "metadata": {},
   "source": [
    "# Compare: How do the final centroids and labels from Scikit-learn compare to your manual Iteration 1 (or 2) results? Are they similar? Why might they differ?\n",
    "    - Manual KMeans (Iteration 2):\n",
    "        - Centroids after iteration 1:\n",
    "            - C1 ≈ [3.67, 9.0]\n",
    "            - C2 ≈ [4.8, 4.0]\n",
    "        - Cluster labels:\n",
    "            - Points 0, 3, 7 → Cluster 1\n",
    "            - Points 1, 2, 4, 5, 6 → Cluster 2\n",
    "\n",
    "    - Scikit-learn KMeans Results:\n",
    "        - Final centroids:\n",
    "            - [5.5, 3.75]\n",
    "            - [3.25, 8.0]\n",
    "        - Cluster labels:\n",
    "            - Points 0, 1, 3, 7 → Cluster 1\n",
    "            - Points 2, 4, 5, 6 → Cluster 0\n",
    "\n",
    "    - Comparision : There are two meaningful cluster in both the methods, but centroids are slightly different. Also Cluster assignments are mostly consistent, except Point 1 (In manual:Cluster-2, In sklearn:Cluster-1). This may be due to centroids shifting during sklearn's full optimization.\n",
    "    \n",
    "    - The reasons behind all these diffrences can be because :-\n",
    "        - Scikit-learn uses multiple iterations, optimization, and sometimes more initializations.\n",
    "        - Manual method is an approximation with fewer steps.\n",
    "        - Real clustering often requires many iterations to find stable and accurate centroids."
   ]
  }
 ],
 "metadata": {
  "kernelspec": {
   "display_name": "horizon25",
   "language": "python",
   "name": "python3"
  },
  "language_info": {
   "codemirror_mode": {
    "name": "ipython",
    "version": 3
   },
   "file_extension": ".py",
   "mimetype": "text/x-python",
   "name": "python",
   "nbconvert_exporter": "python",
   "pygments_lexer": "ipython3",
   "version": "3.12.9"
  }
 },
 "nbformat": 4,
 "nbformat_minor": 5
}
