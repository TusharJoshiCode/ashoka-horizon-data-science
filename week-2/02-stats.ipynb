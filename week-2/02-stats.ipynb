{
 "cells": [
  {
   "cell_type": "code",
   "execution_count": 43,
   "id": "7023ff3d",
   "metadata": {},
   "outputs": [],
   "source": [
    "data = [60,82,72,75,80,82,85,90,82,93,100]"
   ]
  },
  {
   "cell_type": "code",
   "execution_count": 44,
   "id": "ee43b6b9",
   "metadata": {},
   "outputs": [
    {
     "name": "stdout",
     "output_type": "stream",
     "text": [
      "901\n"
     ]
    }
   ],
   "source": [
    "# Mean\n",
    "sum_of_values = 0\n",
    "for value in data:\n",
    "    sum_of_values += value\n",
    "print(sum_of_values)"
   ]
  },
  {
   "cell_type": "code",
   "execution_count": 45,
   "id": "f0e058db",
   "metadata": {},
   "outputs": [
    {
     "data": {
      "text/plain": [
       "11"
      ]
     },
     "execution_count": 45,
     "metadata": {},
     "output_type": "execute_result"
    }
   ],
   "source": [
    "N = len(data)\n",
    "N"
   ]
  },
  {
   "cell_type": "code",
   "execution_count": 46,
   "id": "74fb838b",
   "metadata": {},
   "outputs": [
    {
     "name": "stdout",
     "output_type": "stream",
     "text": [
      "Mean: 81.9090909090909\n"
     ]
    }
   ],
   "source": [
    "print(f\"Mean: {sum_of_values/N}\")"
   ]
  },
  {
   "cell_type": "code",
   "execution_count": 47,
   "id": "868a5db0",
   "metadata": {},
   "outputs": [
    {
     "data": {
      "text/plain": [
       "[60, 72, 75, 80, 82, 82, 82, 85, 90, 93, 100]"
      ]
     },
     "execution_count": 47,
     "metadata": {},
     "output_type": "execute_result"
    }
   ],
   "source": [
    "# Median\n",
    "sorted_data = sorted(data)\n",
    "sorted_data"
   ]
  },
  {
   "cell_type": "code",
   "execution_count": 48,
   "id": "f9b158e7",
   "metadata": {},
   "outputs": [
    {
     "data": {
      "text/plain": [
       "5"
      ]
     },
     "execution_count": 48,
     "metadata": {},
     "output_type": "execute_result"
    }
   ],
   "source": [
    "middle = N//2\n",
    "N//2"
   ]
  },
  {
   "cell_type": "code",
   "execution_count": 49,
   "id": "429157c4",
   "metadata": {},
   "outputs": [
    {
     "name": "stdout",
     "output_type": "stream",
     "text": [
      "Median: 82\n"
     ]
    }
   ],
   "source": [
    "print(f\"Median: {sorted_data[middle]}\")"
   ]
  },
  {
   "cell_type": "code",
   "execution_count": 50,
   "id": "caa4aa85",
   "metadata": {},
   "outputs": [],
   "source": [
    "# Mode\n",
    "# Highest Frequency\n",
    "count_dict = {}\n",
    "for x in data:\n",
    "    if x in count_dict:\n",
    "        count_dict[x] += 1\n",
    "    else:\n",
    "        count_dict[x] = 1\n"
   ]
  },
  {
   "cell_type": "code",
   "execution_count": 51,
   "id": "a044a29b",
   "metadata": {},
   "outputs": [
    {
     "name": "stdout",
     "output_type": "stream",
     "text": [
      "{60: 1, 82: 3, 72: 1, 75: 1, 80: 1, 85: 1, 90: 1, 93: 1, 100: 1}\n"
     ]
    }
   ],
   "source": [
    "print(count_dict)"
   ]
  },
  {
   "cell_type": "code",
   "execution_count": 52,
   "id": "0c1eb2e8",
   "metadata": {},
   "outputs": [
    {
     "data": {
      "text/plain": [
       "(3, 82)"
      ]
     },
     "execution_count": 52,
     "metadata": {},
     "output_type": "execute_result"
    }
   ],
   "source": [
    "max_count = 0\n",
    "for x in count_dict:\n",
    "    if count_dict[x] > max_count:\n",
    "        max_count = count_dict[x]\n",
    "        mode_value = x\n",
    "max_count, mode_value"
   ]
  },
  {
   "cell_type": "code",
   "execution_count": 53,
   "id": "7381b20b",
   "metadata": {},
   "outputs": [],
   "source": [
    "import numpy as np"
   ]
  },
  {
   "cell_type": "code",
   "execution_count": 54,
   "id": "01fb85ff",
   "metadata": {},
   "outputs": [
    {
     "data": {
      "text/plain": [
       "np.int64(100)"
      ]
     },
     "execution_count": 54,
     "metadata": {},
     "output_type": "execute_result"
    }
   ],
   "source": [
    "np.max(data)"
   ]
  },
  {
   "cell_type": "code",
   "execution_count": 55,
   "id": "8de7c2ef",
   "metadata": {},
   "outputs": [
    {
     "data": {
      "text/plain": [
       "np.float64(81.9090909090909)"
      ]
     },
     "execution_count": 55,
     "metadata": {},
     "output_type": "execute_result"
    }
   ],
   "source": [
    "np.mean(data)"
   ]
  },
  {
   "cell_type": "code",
   "execution_count": 56,
   "id": "1b9c6843",
   "metadata": {},
   "outputs": [
    {
     "data": {
      "text/plain": [
       "np.float64(82.0)"
      ]
     },
     "execution_count": 56,
     "metadata": {},
     "output_type": "execute_result"
    }
   ],
   "source": [
    "np.median(data)"
   ]
  },
  {
   "cell_type": "code",
   "execution_count": 60,
   "id": "a774f2b2",
   "metadata": {},
   "outputs": [
    {
     "data": {
      "text/plain": [
       "np.float64(10.24654749353118)"
      ]
     },
     "execution_count": 60,
     "metadata": {},
     "output_type": "execute_result"
    }
   ],
   "source": [
    "np.std(data)"
   ]
  },
  {
   "cell_type": "code",
   "execution_count": 62,
   "id": "0a2decf0",
   "metadata": {},
   "outputs": [
    {
     "name": "stdout",
     "output_type": "stream",
     "text": [
      "Var: 104.99173553719011\n"
     ]
    }
   ],
   "source": [
    "std = np.std(data)\n",
    "print(f\"Var: {std**2}\")"
   ]
  },
  {
   "cell_type": "code",
   "execution_count": 63,
   "id": "0f4c7d53",
   "metadata": {},
   "outputs": [
    {
     "data": {
      "text/plain": [
       "np.int64(40)"
      ]
     },
     "execution_count": 63,
     "metadata": {},
     "output_type": "execute_result"
    }
   ],
   "source": [
    "# Range\n",
    "np.max(data) - np.min(data)"
   ]
  },
  {
   "cell_type": "code",
   "execution_count": null,
   "id": "19157bf5",
   "metadata": {},
   "outputs": [],
   "source": []
  },
  {
   "cell_type": "code",
   "execution_count": null,
   "id": "f530db47",
   "metadata": {},
   "outputs": [],
   "source": []
  }
 ],
 "metadata": {
  "kernelspec": {
   "display_name": "horizon25",
   "language": "python",
   "name": "python3"
  },
  "language_info": {
   "codemirror_mode": {
    "name": "ipython",
    "version": 3
   },
   "file_extension": ".py",
   "mimetype": "text/x-python",
   "name": "python",
   "nbconvert_exporter": "python",
   "pygments_lexer": "ipython3",
   "version": "3.12.9"
  }
 },
 "nbformat": 4,
 "nbformat_minor": 5
}
