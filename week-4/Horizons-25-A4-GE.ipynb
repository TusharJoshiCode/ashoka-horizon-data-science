{
 "cells": [
  {
   "cell_type": "markdown",
   "id": "b5b8d4f8",
   "metadata": {},
   "source": [
    "## Assignment: Week 5 - Building and Evaluating ML Models with Breast Cancer Dataset\n",
    "\n",
    "# Part 1: Data Loading and Exploration\n",
    "\n",
    "- We begin by importing the Breast Cancer dataset from sklearn and converting it into a pandas DataFrame for easier exploration.\n",
    "- This helps us quickly understand the structure of the dataset, including the number of features and distribution of the target variable."
   ]
  },
  {
   "cell_type": "code",
   "execution_count": 136,
   "id": "a0f6b705",
   "metadata": {},
   "outputs": [],
   "source": [
    "# Part 1: Data Loading and Exploration\n",
    "from sklearn.datasets import load_breast_cancer\n",
    "import pandas as pd\n",
    "import numpy as np\n",
    "import matplotlib.pyplot as plt\n",
    "import seaborn as sns"
   ]
  },
  {
   "cell_type": "code",
   "execution_count": 137,
   "id": "0fe725be",
   "metadata": {},
   "outputs": [],
   "source": [
    "from sklearn.model_selection import train_test_split, cross_val_score\n",
    "from sklearn.preprocessing import StandardScaler\n",
    "from sklearn.linear_model import LogisticRegression\n",
    "from sklearn.ensemble import RandomForestClassifier\n",
    "from sklearn.pipeline import Pipeline\n",
    "from sklearn.metrics import accuracy_score, confusion_matrix, classification_report, ConfusionMatrixDisplay"
   ]
  },
  {
   "cell_type": "code",
   "execution_count": 138,
   "id": "e3390e80",
   "metadata": {},
   "outputs": [],
   "source": [
    "# Load dataset\n",
    "cancer = load_breast_cancer()\n",
    "X = pd.DataFrame(cancer.data, columns=cancer.feature_names)\n",
    "y = pd.Series(cancer.target)"
   ]
  },
  {
   "cell_type": "code",
   "execution_count": 139,
   "id": "9c66ef31",
   "metadata": {},
   "outputs": [
    {
     "name": "stdout",
     "output_type": "stream",
     "text": [
      "   mean radius  mean texture  mean perimeter  mean area  mean smoothness  \\\n",
      "0        17.99         10.38          122.80     1001.0          0.11840   \n",
      "1        20.57         17.77          132.90     1326.0          0.08474   \n",
      "2        19.69         21.25          130.00     1203.0          0.10960   \n",
      "3        11.42         20.38           77.58      386.1          0.14250   \n",
      "4        20.29         14.34          135.10     1297.0          0.10030   \n",
      "\n",
      "   mean compactness  mean concavity  mean concave points  mean symmetry  \\\n",
      "0           0.27760          0.3001              0.14710         0.2419   \n",
      "1           0.07864          0.0869              0.07017         0.1812   \n",
      "2           0.15990          0.1974              0.12790         0.2069   \n",
      "3           0.28390          0.2414              0.10520         0.2597   \n",
      "4           0.13280          0.1980              0.10430         0.1809   \n",
      "\n",
      "   mean fractal dimension  ...  worst radius  worst texture  worst perimeter  \\\n",
      "0                 0.07871  ...         25.38          17.33           184.60   \n",
      "1                 0.05667  ...         24.99          23.41           158.80   \n",
      "2                 0.05999  ...         23.57          25.53           152.50   \n",
      "3                 0.09744  ...         14.91          26.50            98.87   \n",
      "4                 0.05883  ...         22.54          16.67           152.20   \n",
      "\n",
      "   worst area  worst smoothness  worst compactness  worst concavity  \\\n",
      "0      2019.0            0.1622             0.6656           0.7119   \n",
      "1      1956.0            0.1238             0.1866           0.2416   \n",
      "2      1709.0            0.1444             0.4245           0.4504   \n",
      "3       567.7            0.2098             0.8663           0.6869   \n",
      "4      1575.0            0.1374             0.2050           0.4000   \n",
      "\n",
      "   worst concave points  worst symmetry  worst fractal dimension  \n",
      "0                0.2654          0.4601                  0.11890  \n",
      "1                0.1860          0.2750                  0.08902  \n",
      "2                0.2430          0.3613                  0.08758  \n",
      "3                0.2575          0.6638                  0.17300  \n",
      "4                0.1625          0.2364                  0.07678  \n",
      "\n",
      "[5 rows x 30 columns]\n",
      "0    0\n",
      "1    0\n",
      "2    0\n",
      "3    0\n",
      "4    0\n",
      "dtype: int64\n",
      "Shape of X: (569, 30)\n",
      "Shape of y: (569,)\n",
      "Class distribution in y:\n",
      " 1    357\n",
      "0    212\n",
      "Name: count, dtype: int64\n"
     ]
    }
   ],
   "source": [
    "# Quick Exploration\n",
    "print(X.head())\n",
    "print(y.head())\n",
    "print(\"Shape of X:\", X.shape)\n",
    "print(\"Shape of y:\", y.shape)\n",
    "print(\"Class distribution in y:\\n\", y.value_counts())"
   ]
  },
  {
   "cell_type": "markdown",
   "id": "32079f96",
   "metadata": {},
   "source": [
    "# Interpretation:\n",
    "- The dataset contains 569 samples and 30 features. The target variable is binary: 0 (malignant) and 1 (benign).\n",
    "- There is a class imbalance to consider, but it’s not too extreme."
   ]
  },
  {
   "cell_type": "markdown",
   "id": "92e1ce99",
   "metadata": {},
   "source": [
    "# Part 2: Data Splitting & Preprocessing\n",
    "- Here, we split the data into training and test sets using stratification to preserve the original class distribution.\n",
    "- We also apply StandardScaler to normalize the features, which is crucial for models sensitive to feature scale."
   ]
  },
  {
   "cell_type": "code",
   "execution_count": 140,
   "id": "cb05d6df",
   "metadata": {},
   "outputs": [
    {
     "name": "stdout",
     "output_type": "stream",
     "text": [
      "Train/Test shapes: (455, 30) (114, 30) (455,) (114,)\n"
     ]
    }
   ],
   "source": [
    "# Part 2: Data Splitting & Preprocessing\n",
    "X_train, X_test, y_train, y_test = train_test_split(X, y, test_size=0.2, stratify=y, random_state=42)\n",
    "print(\"Train/Test shapes:\", X_train.shape, X_test.shape, y_train.shape, y_test.shape)"
   ]
  },
  {
   "cell_type": "code",
   "execution_count": 141,
   "id": "6340e59f",
   "metadata": {},
   "outputs": [],
   "source": [
    "scaler = StandardScaler()\n",
    "scaler.fit(X_train)  # Only on training data\n",
    "X_train_scaled = scaler.transform(X_train)\n",
    "X_test_scaled = scaler.transform(X_test)"
   ]
  },
  {
   "cell_type": "code",
   "execution_count": 142,
   "id": "9512e1f6",
   "metadata": {},
   "outputs": [
    {
     "name": "stdout",
     "output_type": "stream",
     "text": [
      "Means of first 3 features: [-4.31742554e-15  2.24606658e-15 -7.38359313e-16]\n",
      "Stds of first 3 features: [1. 1. 1.]\n"
     ]
    }
   ],
   "source": [
    "# Verify scaling\n",
    "print(\"Means of first 3 features:\", np.mean(X_train_scaled[:, :3], axis=0))\n",
    "print(\"Stds of first 3 features:\", np.std(X_train_scaled[:, :3], axis=0))"
   ]
  },
  {
   "cell_type": "markdown",
   "id": "20b634c9",
   "metadata": {},
   "source": [
    "# Interpretation:\n",
    "- Feature scaling was successful. The scaled data has mean ≈ 0 and std ≈ 1, ensuring all features contribute equally."
   ]
  },
  {
   "cell_type": "markdown",
   "id": "36d7389e",
   "metadata": {},
   "source": [
    "## Part 3: Logistic Regression (no pipeline)\n",
    "- We now train a basic Logistic Regression model on the scaled data and evaluate it on the test set.\n",
    "- We use accuracy, confusion matrix, and classification report for a full view of the model’s performance."
   ]
  },
  {
   "cell_type": "code",
   "execution_count": 143,
   "id": "46563889",
   "metadata": {},
   "outputs": [],
   "source": [
    "# Part 3: Logistic Regression (no pipeline)\n",
    "log_reg = LogisticRegression(solver='liblinear', random_state=42)\n",
    "log_reg.fit(X_train_scaled, y_train)\n",
    "y_pred_lr = log_reg.predict(X_test_scaled)\n"
   ]
  },
  {
   "cell_type": "code",
   "execution_count": 144,
   "id": "e0844354",
   "metadata": {},
   "outputs": [
    {
     "name": "stdout",
     "output_type": "stream",
     "text": [
      "Logistic Regression Accuracy: 0.9824561403508771\n",
      "Confusion Matrix:\n"
     ]
    },
    {
     "data": {
      "image/png": "[encoded data removed]",
      "text/plain": [
       "<Figure size 640x480 with 2 Axes>"
      ]
     },
     "metadata": {},
     "output_type": "display_data"
    },
    {
     "name": "stdout",
     "output_type": "stream",
     "text": [
      "Classification Report:\n",
      "               precision    recall  f1-score   support\n",
      "\n",
      "           0       0.98      0.98      0.98        42\n",
      "           1       0.99      0.99      0.99        72\n",
      "\n",
      "    accuracy                           0.98       114\n",
      "   macro avg       0.98      0.98      0.98       114\n",
      "weighted avg       0.98      0.98      0.98       114\n",
      "\n"
     ]
    }
   ],
   "source": [
    "print(\"Logistic Regression Accuracy:\", accuracy_score(y_test, y_pred_lr))\n",
    "print(\"Confusion Matrix:\")\n",
    "ConfusionMatrixDisplay(confusion_matrix(y_test, y_pred_lr)).plot()\n",
    "plt.show()\n",
    "print(\"Classification Report:\\n\", classification_report(y_test, y_pred_lr))"
   ]
  },
  {
   "cell_type": "markdown",
   "id": "e7d145aa",
   "metadata": {},
   "source": [
    "# Interpretation:\n",
    "- The Logistic Regression model achieved high accuracy. Precision and recall are particularly high for class 1 (benign),\n",
    "- but slightly lower for class 0 (malignant), which is critical in cancer diagnosis."
   ]
  },
  {
   "cell_type": "markdown",
   "id": "09e89b80",
   "metadata": {},
   "source": [
    "## Part 4: Pipeline + Cross-Validation\n",
    "- We build a pipeline to combine scaling and model training. Then, we use cross-validation to get a more stable estimate of accuracy."
   ]
  },
  {
   "cell_type": "code",
   "execution_count": 145,
   "id": "030ae835",
   "metadata": {},
   "outputs": [],
   "source": [
    "# Part 4: Pipeline + Cross-Validation\n",
    "pipeline_lr = Pipeline([\n",
    "    ('scaler', StandardScaler()),\n",
    "    ('model', LogisticRegression(solver='liblinear', random_state=42))\n",
    "])\n"
   ]
  },
  {
   "cell_type": "code",
   "execution_count": 146,
   "id": "47c95bef",
   "metadata": {},
   "outputs": [
    {
     "name": "stdout",
     "output_type": "stream",
     "text": [
      "CV Accuracy Scores: [0.98245614 0.97368421 0.97368421 0.97368421 0.99115044]\n",
      "Mean Accuracy: 0.9789318428815402\n",
      "Std Dev: 0.006990390328940835\n"
     ]
    }
   ],
   "source": [
    "cv_scores = cross_val_score(pipeline_lr, X, y, cv=5, scoring='accuracy')\n",
    "print(\"CV Accuracy Scores:\", cv_scores)\n",
    "print(\"Mean Accuracy:\", np.mean(cv_scores))\n",
    "print(\"Std Dev:\", np.std(cv_scores))"
   ]
  },
  {
   "cell_type": "markdown",
   "id": "304ac102",
   "metadata": {},
   "source": [
    "# Interpretation:\n",
    "- Cross-validation gives a more reliable estimate of the model’s performance.\n",
    "- The mean accuracy is close to what we saw with the train-test split. A small standard deviation suggests stable performance."
   ]
  },
  {
   "cell_type": "code",
   "execution_count": 147,
   "id": "9ae7589b",
   "metadata": {},
   "outputs": [
    {
     "name": "stdout",
     "output_type": "stream",
     "text": [
      "Pipeline Test Accuracy: 0.9824561403508771\n"
     ]
    }
   ],
   "source": [
    "# Compare to train-test accuracy\n",
    "pipeline_lr.fit(X_train, y_train)\n",
    "y_pred_pipe = pipeline_lr.predict(X_test)\n",
    "print(\"Pipeline Test Accuracy:\", accuracy_score(y_test, y_pred_pipe))"
   ]
  },
  {
   "cell_type": "markdown",
   "id": "4bca4df4",
   "metadata": {},
   "source": [
    "## Part 5: Try Different Model (Random Forest)\n",
    "- We now test a more complex model, Random Forest, which often performs better on structured datasets like this."
   ]
  },
  {
   "cell_type": "code",
   "execution_count": 148,
   "id": "17e2844f",
   "metadata": {},
   "outputs": [],
   "source": [
    "# Part 5: Try Different Model (Random Forest)\n",
    "pipeline_rf = Pipeline([\n",
    "    ('scaler', StandardScaler()),\n",
    "    ('model', RandomForestClassifier(n_estimators=100, random_state=42))\n",
    "])"
   ]
  },
  {
   "cell_type": "code",
   "execution_count": 149,
   "id": "c44e9c50",
   "metadata": {},
   "outputs": [],
   "source": [
    "pipeline_rf.fit(X_train, y_train)\n",
    "y_pred_rf = pipeline_rf.predict(X_test)\n"
   ]
  },
  {
   "cell_type": "code",
   "execution_count": 150,
   "id": "2b0e4a14",
   "metadata": {},
   "outputs": [
    {
     "name": "stdout",
     "output_type": "stream",
     "text": [
      "Random Forest Accuracy: 0.956140350877193\n"
     ]
    },
    {
     "data": {
      "image/png": "[encoded data removed]",
      "text/plain": [
       "<Figure size 640x480 with 2 Axes>"
      ]
     },
     "metadata": {},
     "output_type": "display_data"
    },
    {
     "name": "stdout",
     "output_type": "stream",
     "text": [
      "Classification Report:\n",
      "               precision    recall  f1-score   support\n",
      "\n",
      "           0       0.95      0.93      0.94        42\n",
      "           1       0.96      0.97      0.97        72\n",
      "\n",
      "    accuracy                           0.96       114\n",
      "   macro avg       0.96      0.95      0.95       114\n",
      "weighted avg       0.96      0.96      0.96       114\n",
      "\n"
     ]
    }
   ],
   "source": [
    "print(\"Random Forest Accuracy:\", accuracy_score(y_test, y_pred_rf))\n",
    "ConfusionMatrixDisplay(confusion_matrix(y_test, y_pred_rf)).plot()\n",
    "plt.title(\"Random Forest Confusion Matrix\")\n",
    "plt.show()\n",
    "print(\"Classification Report:\\n\", classification_report(y_test, y_pred_rf))"
   ]
  },
  {
   "cell_type": "markdown",
   "id": "3ae3d4d2",
   "metadata": {},
   "source": [
    "## Reflection:\n",
    "# Comparing both models:\n",
    "- Random Forest performed slightly better in accuracy.\n",
    "- It had better recall for class 0 (malignant), which is critical in medical use-cases.\n",
    "- Logistic Regression is simpler and interpretable, while Random Forest may generalize better.\n",
    "\n",
    "- Overall, both models perform well, but the Random Forest may be preferred due to its stronger performance on the minority class."
   ]
  }
 ],
 "metadata": {
  "kernelspec": {
   "display_name": "horizon25",
   "language": "python",
   "name": "python3"
  },
  "language_info": {
   "codemirror_mode": {
    "name": "ipython",
    "version": 3
   },
   "file_extension": ".py",
   "mimetype": "text/x-python",
   "name": "python",
   "nbconvert_exporter": "python",
   "pygments_lexer": "ipython3",
   "version": "3.12.9"
  }
 },
 "nbformat": 4,
 "nbformat_minor": 5
}
